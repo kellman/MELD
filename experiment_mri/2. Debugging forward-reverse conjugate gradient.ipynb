{
 "cells": [
  {
   "cell_type": "markdown",
   "metadata": {},
   "source": [
    "# 2. Debugging forward-reverse conjugate gradient\n",
    "\n",
    "* There is some error between these two processes\n",
    "* Don't know if it is from convergence of CG, but error seems to converge\n",
    "* Do not know if this effects learning at all. This error could accumulate..."
   ]
  },
  {
   "cell_type": "code",
   "execution_count": 9,
   "metadata": {},
   "outputs": [
    {
     "name": "stdout",
     "output_type": "stream",
     "text": [
      "The autoreload extension is already loaded. To reload it, use:\n",
      "  %reload_ext autoreload\n"
     ]
    }
   ],
   "source": [
    "%load_ext autoreload\n",
    "%autoreload 2\n",
    "%matplotlib notebook\n",
    "\n",
    "import numpy as np\n",
    "import torch\n",
    "import torch.nn\n",
    "import matplotlib.pyplot as plt\n",
    "import meld.recon as recon\n",
    "from meld.util import getAbs, getPhase\n",
    "# local\n",
    "import mri\n",
    "import hqs\n",
    "import model\n",
    "import dataloader\n",
    "import lib_complex as cp\n",
    "\n",
    "# Setup device\n",
    "device_no = 1\n",
    "torch.cuda.set_device(device_no)\n",
    "device = torch.device(\"cuda:\"+str(device_no) if torch.cuda.is_available() else \"cpu\")\n",
    "\n",
    "np_dtype = np.float32"
   ]
  },
  {
   "cell_type": "code",
   "execution_count": 10,
   "metadata": {},
   "outputs": [],
   "source": [
    "Np = [5,5]\n",
    "Nbatch = 2\n",
    "A = np.random.randn(*Np).astype(np_dtype) # matrix\n",
    "b = np.random.randn(Nbatch, Np[0], 1).astype(np_dtype) # input\n",
    "\n",
    "At = torch.from_numpy(A).to(device)\n",
    "bt = torch.from_numpy(b).to(device)\n",
    "\n",
    "ATbt = torch.matmul(At.t(),bt)\n",
    "ATAt = torch.matmul(At.t(),At)\n",
    "\n",
    "# Q = lambda x : torch.matmul(ATAt[None,...],x)\n",
    "\n",
    "def Q(x):\n",
    "    out = torch.zeros(x.shape[0], ATAt.shape[0], 1).to(device)\n",
    "    for ii in range(Nbatch):\n",
    "        out[ii,...] = torch.matmul(ATAt,x[ii,...])\n",
    "    return out"
   ]
  },
  {
   "cell_type": "code",
   "execution_count": 11,
   "metadata": {},
   "outputs": [
    {
     "name": "stdout",
     "output_type": "stream",
     "text": [
      "MSE(0):7.58503437\n",
      "MSE(1):0.95059550\n",
      "MSE(2):0.24050450\n",
      "MSE(3):0.02397619\n",
      "MSE(4):0.00281426\n",
      "MSE(5):0.00000011\n",
      "MSE(6):0.00000000\n",
      "MSE(7):0.00000000\n",
      "Hit eps after 7\n",
      "MSE(8):0.00000000\n",
      "Hit eps after 7\n",
      "MSE(9):0.00000000\n",
      "Hit eps after 7\n",
      "MSE(10):0.00000000\n",
      "Hit eps after 7\n",
      "MSE(11):0.00000000\n",
      "Hit eps after 7\n",
      "MSE(12):0.00000000\n",
      "Hit eps after 7\n",
      "MSE(13):0.00000000\n",
      "Hit eps after 7\n",
      "MSE(14):0.00000000\n"
     ]
    }
   ],
   "source": [
    "for nn in range(15):\n",
    "    output = mri.conjgrad(ATbt*0, ATbt, Q, max_iter = nn, eps = 1e-9)\n",
    "    reverse = Q(output)\n",
    "    mse = torch.mean((ATbt - reverse)**2).cpu().numpy()\n",
    "    print('MSE({1:d}):{0:.8f}'.format(mse, nn))"
   ]
  },
  {
   "cell_type": "code",
   "execution_count": null,
   "metadata": {},
   "outputs": [],
   "source": []
  },
  {
   "cell_type": "code",
   "execution_count": null,
   "metadata": {},
   "outputs": [],
   "source": []
  }
 ],
 "metadata": {
  "kernelspec": {
   "display_name": "Python 3",
   "language": "python",
   "name": "python3"
  },
  "language_info": {
   "codemirror_mode": {
    "name": "ipython",
    "version": 3
   },
   "file_extension": ".py",
   "mimetype": "text/x-python",
   "name": "python",
   "nbconvert_exporter": "python",
   "pygments_lexer": "ipython3",
   "version": "3.7.4"
  }
 },
 "nbformat": 4,
 "nbformat_minor": 2
}
