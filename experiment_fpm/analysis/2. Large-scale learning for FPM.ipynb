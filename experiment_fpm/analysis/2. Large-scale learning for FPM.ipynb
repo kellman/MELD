{
 "cells": [
  {
   "cell_type": "markdown",
   "metadata": {},
   "source": [
    "# 2. Large-scale learning for FPM"
   ]
  },
  {
   "cell_type": "code",
   "execution_count": 1,
   "metadata": {},
   "outputs": [
    {
     "data": {
      "text/html": [
       "<style>.container { width:100% !important; }</style>"
      ],
      "text/plain": [
       "<IPython.core.display.HTML object>"
      ]
     },
     "metadata": {},
     "output_type": "display_data"
    }
   ],
   "source": [
    "from IPython.core.display import display, HTML\n",
    "display(HTML(\"<style>.container { width:100% !important; }</style>\"))\n",
    "\n",
    "%load_ext autoreload\n",
    "%autoreload 2\n",
    "%matplotlib notebook"
   ]
  },
  {
   "cell_type": "code",
   "execution_count": 2,
   "metadata": {},
   "outputs": [],
   "source": [
    "import os, sys\n",
    "import argparse\n",
    "import time\n",
    "import numpy as np\n",
    "import torch\n",
    "from torch.utils.tensorboard import SummaryWriter\n",
    "import matplotlib.image as mpimg\n",
    "import matplotlib.pyplot as plt\n",
    "plt.style.use('seaborn-dark')\n",
    "\n",
    "import time\n",
    "\n",
    "# MELD toolbox\n",
    "import meld.recon as recon\n",
    "from meld.recon import UnrolledNetwork\n",
    "\n",
    "# import local experiment files\n",
    "sys.path.append('../')\n",
    "import dataloader\n",
    "import visualizer\n",
    "import model"
   ]
  },
  {
   "cell_type": "code",
   "execution_count": 3,
   "metadata": {},
   "outputs": [],
   "source": [
    "# Setup device\n",
    "device_no = 1\n",
    "torch.cuda.set_device(device_no)\n",
    "device = torch.device(\"cuda:\"+str(device_no) if torch.cuda.is_available() else \"cpu\")"
   ]
  },
  {
   "cell_type": "code",
   "execution_count": 8,
   "metadata": {},
   "outputs": [],
   "source": [
    "path = '/home/kellman/Workspace/PYTHON/Design_FPM_pytorch/datasets_train_ode_test/train_amp_exp_10000_293leds.mat' \n",
    "dataset = dataloader.dataloader(path, 100, 1, device)\n",
    "metadata = dataset.getMetadata()\n",
    "metadata['Np'] = dataset[0][0].shape[2:]\n",
    "metadata['num_bf'] = 1\n",
    "metadata['num_df'] = 10\n",
    "metadata['num_unrolls'] = 100\n",
    "metadata['alpha'] = 0.2\n",
    "metadata['T'] = 4\n"
   ]
  },
  {
   "cell_type": "code",
   "execution_count": 9,
   "metadata": {},
   "outputs": [
    {
     "name": "stdout",
     "output_type": "stream",
     "text": [
      "10\n",
      "torch.Size([1, 293, 101, 101])\n",
      "torch.Size([1, 101, 101, 2])\n"
     ]
    }
   ],
   "source": [
    "print(len(dataset))\n",
    "input_data, output_data = dataset[0]\n",
    "print(input_data.shape)\n",
    "print(output_data.shape)"
   ]
  },
  {
   "cell_type": "code",
   "execution_count": null,
   "metadata": {},
   "outputs": [],
   "source": []
  }
 ],
 "metadata": {
  "kernelspec": {
   "display_name": "Python 3",
   "language": "python",
   "name": "python3"
  },
  "language_info": {
   "codemirror_mode": {
    "name": "ipython",
    "version": 3
   },
   "file_extension": ".py",
   "mimetype": "text/x-python",
   "name": "python",
   "nbconvert_exporter": "python",
   "pygments_lexer": "ipython3",
   "version": "3.7.4"
  }
 },
 "nbformat": 4,
 "nbformat_minor": 2
}
